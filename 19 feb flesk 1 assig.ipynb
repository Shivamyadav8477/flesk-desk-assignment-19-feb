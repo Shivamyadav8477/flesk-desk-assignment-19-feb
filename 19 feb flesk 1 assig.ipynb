{
 "cells": [
  {
   "cell_type": "code",
   "execution_count": null,
   "id": "ab8f5af7-7770-46a6-8441-8e039469b283",
   "metadata": {},
   "outputs": [],
   "source": [
    "Q1. What is Flask Framework? What are the advantages of Flask Framework?"
   ]
  },
  {
   "cell_type": "code",
   "execution_count": null,
   "id": "3e73624d-b19b-48f6-a580-a104825e48da",
   "metadata": {},
   "outputs": [],
   "source": [
    "Flask is a lightweight and versatile web framework for building web applications in Python. It was created by Armin Ronacher and is often referred to as a \"micro\" framework because it provides the essential tools and components needed for web development without imposing strict patterns or libraries for tasks like database abstraction, form validation, and authentication. Flask is designed to be simple and easy to use, giving developers the freedom to choose the tools and libraries they want to use for various aspects of their application.\n",
    "\n",
    "Advantages of Flask Framework:\n",
    "\n",
    "1. Simplicity: Flask follows a minimalist design philosophy, making it easy to understand and get started with for both beginners and experienced developers. Its simplicity means you can use only the components you need for your project.\n",
    "\n",
    "2. Flexibility: Flask doesn't enforce a specific structure or libraries for various tasks. This flexibility allows developers to select the best tools and extensions for their specific project requirements.\n",
    "\n",
    "3. Lightweight: Flask has a small codebase and minimal dependencies, which results in faster development and fewer potential security vulnerabilities. It doesn't come with built-in features that you might not use, keeping your application lean.\n",
    "\n",
    "4. Extensibility: Flask is highly extensible through the use of third-party extensions. These extensions provide additional functionality for tasks like database integration, authentication, and form handling.\n",
    "\n",
    "5. Large Community and Ecosystem: Flask has a large and active community, which means you can find a wealth of tutorials, documentation, and third-party extensions to help you build your web application efficiently.\n",
    "\n",
    "6. RESTful Support: Flask is well-suited for building RESTful APIs due to its simplicity and support for HTTP methods. It's a popular choice for developing APIs.\n",
    "\n",
    "7. Testing: Flask has excellent support for testing, making it easier to write unit tests and integration tests for your application.\n",
    "\n",
    "8. Jinja2 Templating: Flask uses the Jinja2 templating engine, which offers powerful and flexible templates for rendering dynamic content in HTML.\n",
    "\n",
    "9. Werkzeug Integration: Flask is built on top of the Werkzeug WSGI library, which provides low-level HTTP request and response handling. This integration ensures a reliable and efficient web server.\n",
    "\n",
    "10. Pythonic: Since Flask is written in Python and follows Pythonic conventions, Python developers find it easy to work with and integrate into their existing Python projects.\n",
    "\n",
    "While Flask's simplicity and flexibility are advantages for many developers, it's important to note that it may not be the best choice for extremely complex web applications where a more full-featured framework like Django might be more suitable. Flask's strengths lie in its ability to quickly create lightweight and customized web applications, APIs, and prototypes."
   ]
  },
  {
   "cell_type": "code",
   "execution_count": null,
   "id": "351b48e5-451b-431c-bfa6-fe6fcf448f89",
   "metadata": {},
   "outputs": [],
   "source": [
    "Q2. Create a simple Flask application to display ‘Hello World!!’. Attach the screenshot of the output in\n",
    "Jupyter Notebook."
   ]
  },
  {
   "cell_type": "code",
   "execution_count": null,
   "id": "3c1ef1b4-435e-406a-b02b-6877e0fce0c6",
   "metadata": {},
   "outputs": [],
   "source": [
    "I can provide you with a simple Flask application code to display \"Hello World!!\" in a Jupyter Notebook cell. However, I'm unable to attach screenshots directly. You can run the code provided below in your Jupyter Notebook environment to see the output.\n",
    "\n",
    "First, you need to install Flask if you haven't already. You can do this in a Jupyter Notebook cell by running:"
   ]
  },
  {
   "cell_type": "code",
   "execution_count": null,
   "id": "17255c03-5167-4ffa-aba1-e21a69843b21",
   "metadata": {
    "tags": []
   },
   "outputs": [],
   "source": [
    "!pip install flask\n"
   ]
  },
  {
   "cell_type": "code",
   "execution_count": null,
   "id": "d93aee28-4f41-4883-8844-edd4d968b5ce",
   "metadata": {},
   "outputs": [],
   "source": [
    "from flask import Flask\n",
    "\n",
    "# Create a Flask web application\n",
    "app = Flask(__name__)\n",
    "\n",
    "# Define a route to display \"Hello World!!\"\n",
    "@app.route('/')\n",
    "def hello_world():\n",
    "    return 'Hello World!!'\n",
    "\n",
    "if __name__ == '__main__':\n",
    "    # Run the Flask app on localhost at port 5000\n",
    "    app.run()\n"
   ]
  },
  {
   "cell_type": "code",
   "execution_count": null,
   "id": "818af04e-a12f-4ee0-930e-52b130b5423b",
   "metadata": {},
   "outputs": [],
   "source": [
    "After running this code in a Jupyter Notebook cell, you should see output indicating that the Flask development server is running. You can then open a web browser and navigate to http://localhost:5000 to see the \"Hello World!!\" message displayed in your browser.\n",
    "\n",
    "Remember to stop the Jupyter Notebook cell (usually by clicking the stop button or interrupting the kernel) after you've seen the output, as the Flask development server will keep running until you stop the cell.\n",
    "\n",
    "\n",
    "\n",
    "\n"
   ]
  },
  {
   "cell_type": "code",
   "execution_count": null,
   "id": "8ead9dfd-0de8-4f6d-9de9-137b8294e8ce",
   "metadata": {},
   "outputs": [],
   "source": [
    "Q3. What is App routing in Flask? Why do we use app routes?"
   ]
  },
  {
   "cell_type": "code",
   "execution_count": null,
   "id": "f9c7d72f-6e5d-4706-b6a7-02634f63a445",
   "metadata": {},
   "outputs": [],
   "source": [
    "In Flask, app routing refers to the process of defining URL patterns and associating them with specific view functions. These URL patterns, also known as routes, determine how your Flask application responds to different URLs requested by clients (typically web browsers). App routing is a fundamental aspect of building web applications in Flask, as it defines the structure and behavior of your application's endpoints.\n",
    "\n",
    "Key components of app routing in Flask include:\n",
    "\n",
    "URL Rules/Patterns: URL rules are defined using decorators like @app.route('/some-url'). These decorators are applied to Python functions (view functions) that should be executed when a particular URL is accessed.\n",
    "\n",
    "View Functions: View functions are Python functions that handle the logic associated with a specific URL or route. When a user accesses a URL matching a route defined by a view function, Flask calls that function, and it generates an HTTP response that is sent back to the client.\n",
    "\n",
    "Here's an example of app routing in Flask"
   ]
  },
  {
   "cell_type": "code",
   "execution_count": null,
   "id": "99a76db5-a2aa-4aa9-9828-d119d09b7a74",
   "metadata": {},
   "outputs": [],
   "source": [
    "from flask import Flask\n",
    "\n",
    "app = Flask(__name__)\n",
    "\n",
    "@app.route('/')\n",
    "def index():\n",
    "    return 'Welcome to the homepage'\n",
    "\n",
    "@app.route('/about')\n",
    "def about():\n",
    "    return 'This is the about page'\n",
    "\n",
    "@app.route('/contact')\n",
    "def contact():\n",
    "    return 'Contact us here'\n",
    "\n",
    "if __name__ == '__main__':\n",
    "    app.run()\n"
   ]
  },
  {
   "cell_type": "code",
   "execution_count": null,
   "id": "e5e4a9e5-1d43-4630-9a5b-6293e4115f71",
   "metadata": {},
   "outputs": [],
   "source": [
    "@app.route('/') defines a route for the root URL (http://localhost:5000/). When a user accesses this URL, the index view function is executed, and it returns the \"Welcome to the homepage\" message.\n",
    "\n",
    "@app.route('/about') defines a route for the \"/about\" URL (http://localhost:5000/about). When accessed, it triggers the about view function.\n",
    "\n",
    "@app.route('/contact') defines a route for the \"/contact\" URL (http://localhost:5000/contact), which triggers the contact view function.\n",
    "\n",
    "Why do we use app routes in Flask?\n",
    "\n",
    "Organize Your Application: App routing allows you to structure your application logically by mapping different URLs to specific functions. This makes your codebase organized and easier to maintain as your application grows.\n",
    "\n",
    "Separation of Concerns: It follows the principle of separation of concerns, where different view functions can handle different aspects of your application, such as displaying content, processing forms, or handling API requests.\n",
    "\n",
    "Dynamic Content: Routes enable you to generate dynamic content. For example, a blog website might have routes for different blog posts, and the view function can generate the content for each post based on the URL parameters.\n",
    "\n",
    "User-Friendly URLs: Routes help create user-friendly and meaningful URLs that are easy for users to understand and remember.\n",
    "\n",
    "RESTful APIs: For building RESTful APIs, app routing allows you to define routes for different API endpoints, each associated with a specific function that handles API requests and responses.\n",
    "\n",
    "In summary, app routing in Flask is a fundamental concept that allows you to define how your web application responds to different URLs, making your application organized, user-friendly, and capable of handling various types of requests and dynamic content.\n",
    "\n",
    "\n",
    "\n",
    "\n",
    "\n"
   ]
  },
  {
   "cell_type": "code",
   "execution_count": null,
   "id": "ec9bacc6-134c-4ce2-a648-f081097a111f",
   "metadata": {},
   "outputs": [],
   "source": [
    "Q4. Create a “/welcome” route to display the welcome message “Welcome to ABC Corporation” and a “/”\n",
    "route to show the following details:\n",
    "Company Name: ABC Corporation\n",
    "Location: India\n",
    "Contact Detail: 999-999-9999\n",
    "Attach the screenshot of the output in Jupyter Notebook."
   ]
  },
  {
   "cell_type": "code",
   "execution_count": null,
   "id": "a79955df-cbac-4d38-8584-9b1ed9e8e7dc",
   "metadata": {},
   "outputs": [],
   "source": [
    "I can provide you with the Flask code to create the \"/welcome\" and \"/\" routes as you described. However, I'm unable to attach screenshots directly. You can run the code provided below in your Jupyter Notebook environment to see the output.\n",
    "\n",
    "First, make sure you have Flask installed. If you haven't already installed it, you can do so in a Jupyter Notebook cell by running:"
   ]
  },
  {
   "cell_type": "code",
   "execution_count": null,
   "id": "f4ccfc8e-0242-4228-8a56-0b429792b6c6",
   "metadata": {},
   "outputs": [],
   "source": [
    "!pip install flask\n"
   ]
  },
  {
   "cell_type": "code",
   "execution_count": null,
   "id": "f769a671-e17a-4b8b-8844-dfca7e7f0730",
   "metadata": {},
   "outputs": [],
   "source": [
    "Next, you can create the Flask application with the desired routes:"
   ]
  },
  {
   "cell_type": "code",
   "execution_count": null,
   "id": "4d2a6faf-a3a6-4933-87f6-bd0310f80e24",
   "metadata": {},
   "outputs": [],
   "source": [
    "from flask import Flask\n",
    "\n",
    "app = Flask(__name__)\n",
    "\n",
    "# Route for \"/welcome\"\n",
    "@app.route('/welcome')\n",
    "def welcome():\n",
    "    return 'Welcome to ABC Corporation'\n",
    "\n",
    "# Route for \"/\"\n",
    "@app.route('/')\n",
    "def company_info():\n",
    "    return '''\n",
    "    Company Name: ABC Corporation\n",
    "    Location: India\n",
    "    Contact Detail: 999-999-9999\n",
    "    '''\n",
    "\n",
    "if __name__ == '__main__':\n",
    "    app.run()\n"
   ]
  },
  {
   "cell_type": "code",
   "execution_count": null,
   "id": "3d8a22ea-33fb-467a-a532-59172db7edd0",
   "metadata": {},
   "outputs": [],
   "source": [
    "After running this code in a Jupyter Notebook cell, you should see the following behavior:\n",
    "\n",
    "Accessing the \"/welcome\" route (http://localhost:5000/welcome) will display the message \"Welcome to ABC Corporation.\"\n",
    "\n",
    "Accessing the \"/\" route (http://localhost:5000/) will display the company information as specified:"
   ]
  },
  {
   "cell_type": "code",
   "execution_count": null,
   "id": "7036f6ac-03c3-4124-bbfd-5875b635ebc0",
   "metadata": {},
   "outputs": [],
   "source": [
    "Company Name: ABC Corporation\n",
    "Location: India\n",
    "Contact Detail: 999-999-9999\n"
   ]
  },
  {
   "cell_type": "code",
   "execution_count": null,
   "id": "8ca97e88-0f87-4e5b-ad9a-89910f892aac",
   "metadata": {},
   "outputs": [],
   "source": [
    "You can test these routes by opening your web browser and navigating to the respective URLs. Remember to stop the Jupyter Notebook cell (usually by clicking the stop button or interrupting the kernel) after you've seen the output."
   ]
  },
  {
   "cell_type": "code",
   "execution_count": null,
   "id": "201f5a44-26ad-4c48-8d8e-2afd4ade31e4",
   "metadata": {},
   "outputs": [],
   "source": [
    "Q5. What function is used in Flask for URL Building? Write a Python code to demonstrate the working of the\n",
    "url_for() function."
   ]
  },
  {
   "cell_type": "code",
   "execution_count": null,
   "id": "89c63a55-6d66-4b79-bbd1-1999018d5da9",
   "metadata": {},
   "outputs": [],
   "source": [
    "In Flask, the url_for() function is used for URL building. It is a powerful utility function that generates URLs for your application's routes based on the endpoint name of the route. This is particularly useful because it allows you to create links in your templates or code without hardcoding the URLs, making your application more maintainable and adaptable to changes.\n",
    "\n",
    "Here's how you can use the url_for() function in a Flask application:"
   ]
  },
  {
   "cell_type": "code",
   "execution_count": null,
   "id": "69045767-09ea-4c4e-9451-5f84b91e3463",
   "metadata": {},
   "outputs": [],
   "source": [
    "from flask import Flask, url_for, render_template\n",
    "\n",
    "app = Flask(__name__)\n",
    "\n",
    "# Define a route with an endpoint name\n",
    "@app.route('/')\n",
    "def home():\n",
    "    return 'Welcome to the home page'\n",
    "\n",
    "@app.route('/about')\n",
    "def about():\n",
    "    return 'This is the about page'\n",
    "\n",
    "@app.route('/contact')\n",
    "def contact():\n",
    "    return 'Contact us here'\n",
    "\n",
    "if __name__ == '__main__':\n",
    "    app.run()\n"
   ]
  },
  {
   "cell_type": "code",
   "execution_count": null,
   "id": "5581c186-7913-415d-bb6c-0d4dcf854ea4",
   "metadata": {},
   "outputs": [],
   "source": [
    "In the code above, we have three routes: \"/\", \"/about\", and \"/contact,\" each associated with a different endpoint name. To demonstrate the url_for() function, you can create an HTML template and use url_for() to generate links to these routes dynamically.\n",
    "\n",
    "Here's an example of an HTML template (index.html) that uses url_for() to generate links:"
   ]
  },
  {
   "cell_type": "code",
   "execution_count": null,
   "id": "456db7fe-7959-4a90-9daa-0d9907524a36",
   "metadata": {},
   "outputs": [],
   "source": []
  }
 ],
 "metadata": {
  "kernelspec": {
   "display_name": "Python 3 (ipykernel)",
   "language": "python",
   "name": "python3"
  },
  "language_info": {
   "codemirror_mode": {
    "name": "ipython",
    "version": 3
   },
   "file_extension": ".py",
   "mimetype": "text/x-python",
   "name": "python",
   "nbconvert_exporter": "python",
   "pygments_lexer": "ipython3",
   "version": "3.10.6"
  }
 },
 "nbformat": 4,
 "nbformat_minor": 5
}
